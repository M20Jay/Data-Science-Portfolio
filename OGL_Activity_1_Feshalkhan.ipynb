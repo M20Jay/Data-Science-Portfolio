{
  "cells": [
    {
      "cell_type": "markdown",
      "metadata": {
        "id": "view-in-github",
        "colab_type": "text"
      },
      "source": [
        "<a href=\"https://colab.research.google.com/github/M20Jay/Data-Science-Portfolio/blob/main/OGL_Activity_1_Feshalkhan.ipynb\" target=\"_parent\"><img src=\"https://colab.research.google.com/assets/colab-badge.svg\" alt=\"Open In Colab\"/></a>"
      ]
    },
    {
      "cell_type": "code",
      "execution_count": 16,
      "metadata": {
        "id": "Nt3L2qd3SW04"
      },
      "outputs": [],
      "source": [
        "# OGL Activity-1 (2% Weightage)"
      ]
    },
    {
      "cell_type": "code",
      "execution_count": 17,
      "metadata": {
        "id": "BT4CmTqMSZwX"
      },
      "outputs": [],
      "source": [
        "# ============================================================================\n",
        "# EXERCISE 1 (30%): Password Validation\n",
        "# ============================================================================"
      ]
    },
    {
      "cell_type": "code",
      "source": [
        "print(\"=\" * 60)\n",
        "print(\"EXERCISE 1: Password Validation\")\n",
        "print(\"=\" * 60)\n",
        "\n",
        "def validate_password(password):\n",
        "    \"\"\"\n",
        "    Validates a password based on specific criteria.\n",
        "\n",
        "    Parameters:\n",
        "        password (str): The password to validate\n",
        "\n",
        "    Returns:\n",
        "        tuple: (is_valid, error_message)\n",
        "    \"\"\"\n",
        "\n",
        "    # Check length (must be between 8 and 12 characters)\n",
        "    if len(password) < 8 or len(password) > 12:\n",
        "        return False, \"Password must be between 8 and 12 characters long.\"\n",
        "\n",
        "    # Check if password starts with a letter\n",
        "    if not password[0].isalpha():\n",
        "        return False, \"Password must start with a letter.\"\n",
        "\n",
        "    # Check for whitespace\n",
        "    if ' ' in password:\n",
        "        return False, \"Password should not contain whitespace.\"\n",
        "\n",
        "    # Initialize flags for character type checking\n",
        "    has_uppercase = False\n",
        "    has_lowercase = False\n",
        "    has_digit = False\n",
        "    has_special = False\n",
        "\n",
        "    # Define allowed special characters\n",
        "    special_chars = '@#!%'\n",
        "\n",
        "    # Iterate through each character in the password\n",
        "    for char in password:\n",
        "        if char.isupper():\n",
        "            has_uppercase = True\n",
        "        elif char.islower():\n",
        "            has_lowercase = True\n",
        "        elif char.isdigit():\n",
        "            has_digit = True\n",
        "        elif char in special_chars:\n",
        "            has_special = True\n",
        "\n",
        "    # Check if all required character types are present\n",
        "    if not has_uppercase:\n",
        "        return False, \"Password must include at least one uppercase letter.\"\n",
        "    if not has_lowercase:\n",
        "        return False, \"Password must include at least one lowercase letter.\"\n",
        "    if not has_digit:\n",
        "        return False, \"Password must include at least one digit.\"\n",
        "    if not has_special:\n",
        "        return False, \"Password must include at least one special character (@, #, !, %).\"\n",
        "\n",
        "    # If all validations pass\n",
        "    return True, \"Password is valid!\"\n",
        "\n",
        "# Prompt user for password input\n",
        "user_password = input(\"Enter a password to validate: \")\n",
        "\n",
        "# Validate the password and get result\n",
        "is_valid, message = validate_password(user_password)\n",
        "\n",
        "# Display the validation result\n",
        "print(f\"\\n{message}\")\n",
        "if is_valid:\n",
        "    print(\"✓ Password meets all requirements!\")\n",
        "else:\n",
        "    print(\"✗ Password validation failed.\")\n",
        "\n",
        "print(\"\\n\")"
      ],
      "metadata": {
        "colab": {
          "base_uri": "https://localhost:8080/"
        },
        "id": "3g9kncZyo3yj",
        "outputId": "7a7aba05-fd30-4d5f-e0f6-091406cece1f"
      },
      "execution_count": 18,
      "outputs": [
        {
          "output_type": "stream",
          "name": "stdout",
          "text": [
            "============================================================\n",
            "EXERCISE 1: Password Validation\n",
            "============================================================\n",
            "Enter a password to validate: sheil@2\n",
            "\n",
            "Password must be between 8 and 12 characters long.\n",
            "✗ Password validation failed.\n",
            "\n",
            "\n"
          ]
        }
      ]
    },
    {
      "cell_type": "code",
      "execution_count": 19,
      "metadata": {
        "id": "ioVmpgXHSqjW"
      },
      "outputs": [],
      "source": [
        "# ============================================================================\n",
        "# EXERCISE 2 (35%): Number Analysis (Even, Odd, Prime)\n",
        "# ============================================================================"
      ]
    },
    {
      "cell_type": "code",
      "source": [
        "print(\"=\" * 60)\n",
        "print(\"EXERCISE 2: Number Analysis\")\n",
        "print(\"=\" * 60)\n",
        "\n",
        "def is_prime(n):\n",
        "    \"\"\"\n",
        "    Check if a number is prime.\n",
        "\n",
        "    Parameters:\n",
        "        n (int): The number to check\n",
        "\n",
        "    Returns:\n",
        "        bool: True if prime, False otherwise\n",
        "    \"\"\"\n",
        "    # Numbers less than 2 are not prime\n",
        "    if n < 2:\n",
        "        return False\n",
        "\n",
        "    # 2 is the only even prime number\n",
        "    if n == 2:\n",
        "        return True\n",
        "\n",
        "    # Even numbers greater than 2 are not prime\n",
        "    if n % 2 == 0:\n",
        "        return False\n",
        "\n",
        "    # Check for odd divisors up to square root of n\n",
        "    # This is efficient because if n has a divisor greater than sqrt(n),\n",
        "    # it must also have a divisor smaller than sqrt(n)\n",
        "    for i in range(3, int(n**0.5) + 1, 2):\n",
        "        if n % i == 0:\n",
        "            return False\n",
        "\n",
        "    return True\n",
        "\n",
        "# Prompt user to enter 10 integers\n",
        "print(\"Enter 10 integers:\")\n",
        "numbers = []\n",
        "\n",
        "# Collect 10 numbers from the user\n",
        "for i in range(10):\n",
        "    while True:\n",
        "        try:\n",
        "            # Try to convert input to integer\n",
        "            num = int(input(f\"Enter number {i+1}: \"))\n",
        "            numbers.append(num)\n",
        "            break  # Exit the loop if successful\n",
        "        except ValueError:\n",
        "            # If user enters non-numeric input, show error and ask again\n",
        "            print(\"⚠ Invalid input! Please enter a valid integer.\")\n",
        "\n",
        "# Initialize counters for each category\n",
        "even_count = 0\n",
        "odd_count = 0\n",
        "prime_count = 0\n",
        "\n",
        "# Analyze each number\n",
        "for num in numbers:\n",
        "    # Check if the number is even or odd\n",
        "    if num % 2 == 0:\n",
        "        even_count += 1\n",
        "    else:\n",
        "        odd_count += 1\n",
        "\n",
        "    # Check if the number is prime\n",
        "    if is_prime(num):\n",
        "        prime_count += 1\n",
        "\n",
        "# Display the results\n",
        "print(f\"\\n--- Analysis Results ---\")\n",
        "print(f\"Even numbers: {even_count}\")\n",
        "print(f\"Odd numbers: {odd_count}\")\n",
        "print(f\"Prime numbers: {prime_count}\")\n",
        "\n",
        "# Check if all numbers have the same parity (all even or all odd)\n",
        "if even_count == 10 or odd_count == 10:\n",
        "    print(\"\\n⚡ All numbers are of the same parity!\")\n",
        "\n",
        "print(\"\\n\")"
      ],
      "metadata": {
        "id": "Qccrqzxto-VA",
        "colab": {
          "base_uri": "https://localhost:8080/"
        },
        "outputId": "5a6b6872-3cd5-4813-ada2-9646933f0c61"
      },
      "execution_count": null,
      "outputs": [
        {
          "name": "stdout",
          "output_type": "stream",
          "text": [
            "============================================================\n",
            "EXERCISE 2: Number Analysis\n",
            "============================================================\n",
            "Enter 10 integers:\n",
            "Enter number 1: 1234567890\n",
            "Enter number 2: 1234658709\n"
          ]
        }
      ]
    },
    {
      "cell_type": "code",
      "source": [
        "# ============================================================================\n",
        "# EXERCISE 3 (35%): Text Analysis - Repeated Words\n",
        "# ============================================================================"
      ],
      "metadata": {
        "id": "Gz0IOO4ipDxL"
      },
      "execution_count": null,
      "outputs": []
    },
    {
      "cell_type": "code",
      "source": [
        "print(\"=\" * 60)\n",
        "print(\"EXERCISE 3: Text Analysis - Repeated Words\")\n",
        "print(\"=\" * 60)\n",
        "\n",
        "# Prompt user to enter a multi-line paragraph\n",
        "print(\"Enter a multi-line paragraph (Type 'END' on a new line when done):\")\n",
        "\n",
        "# Collect lines until user types 'END'\n",
        "lines = []\n",
        "while True:\n",
        "    line = input()\n",
        "    if line == 'END':\n",
        "        break\n",
        "    lines.append(line)\n",
        "\n",
        "# Join all lines into a single paragraph\n",
        "paragraph = ' '.join(lines)\n",
        "\n",
        "# Convert the entire text to lowercase\n",
        "paragraph_lower = paragraph.lower()\n",
        "\n",
        "# Remove punctuation (periods, commas, exclamation marks)\n",
        "# We'll remove these specific punctuation marks\n",
        "punctuation_to_remove = '.,!'\n",
        "for punct in punctuation_to_remove:\n",
        "    paragraph_lower = paragraph_lower.replace(punct, '')\n",
        "\n",
        "# Split the text into words\n",
        "words = paragraph_lower.split()\n",
        "\n",
        "# Count the frequency of each word using a dictionary\n",
        "word_count = {}\n",
        "for word in words:\n",
        "    if word in word_count:\n",
        "        word_count[word] += 1  # Increment count if word already exists\n",
        "    else:\n",
        "        word_count[word] = 1   # Initialize count if word is new\n",
        "\n",
        "# Filter words that appear at least twice (repeated words)\n",
        "repeated_words = {word: count for word, count in word_count.items() if count >= 2}\n",
        "\n",
        "# Count how many unique words are repeated at least twice\n",
        "unique_repeated_count = len(repeated_words)\n",
        "\n",
        "# Display the results\n",
        "print(f\"\\n--- Text Analysis Results ---\")\n",
        "print(f\"Number of unique words repeated at least twice: {unique_repeated_count}\")\n",
        "\n",
        "# Display each repeated word and its count\n",
        "if repeated_words:\n",
        "    print(\"\\nRepeated words and their frequencies:\")\n",
        "    for word, count in sorted(repeated_words.items()):\n",
        "        print(f\"  '{word}': {count} times\")\n",
        "else:\n",
        "    print(\"\\nNo words are repeated in the paragraph.\")\n",
        "\n",
        "print(\"\\n\")\n",
        "print(\"=\" * 60)\n",
        "print(\"All exercises completed!\")\n",
        "print(\"=\" * 60)"
      ],
      "metadata": {
        "id": "bLKkOaJspKhL"
      },
      "execution_count": null,
      "outputs": []
    }
  ],
  "metadata": {
    "colab": {
      "toc_visible": true,
      "provenance": [],
      "authorship_tag": "ABX9TyN6Je12Id06kyfY9JimKpoX",
      "include_colab_link": true
    },
    "kernelspec": {
      "display_name": "Python 3",
      "name": "python3"
    },
    "language_info": {
      "name": "python"
    }
  },
  "nbformat": 4,
  "nbformat_minor": 0
}